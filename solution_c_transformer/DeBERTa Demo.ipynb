{
  "nbformat": 4,
  "nbformat_minor": 0,
  "metadata": {
    "colab": {
      "provenance": [],
      "gpuType": "T4"
    },
    "kernelspec": {
      "name": "python3",
      "display_name": "Python 3"
    },
    "language_info": {
      "name": "python"
    },
    "accelerator": "GPU"
  },
  "cells": [
    {
      "cell_type": "markdown",
      "source": [
        "### Imports and hyperparameters"
      ],
      "metadata": {
        "id": "EaYx2JcPCrJc"
      }
    },
    {
      "cell_type": "code",
      "execution_count": 1,
      "metadata": {
        "id": "xweZdYdJCo_P"
      },
      "outputs": [],
      "source": [
        "import pandas as pd\n",
        "import numpy as np\n",
        "\n",
        "import os\n",
        "\n",
        "from transformers import AutoTokenizer, TFAutoModel\n",
        "\n",
        "import tensorflow as tf"
      ]
    },
    {
      "cell_type": "code",
      "source": [
        "# Hyperparameters\n",
        "MAX_SEQUENCE_LENGTH = 100\n",
        "EPOCHS = 5\n",
        "BATCH_SIZE = 32\n",
        "LEARNING_RATE = 3e-5\n",
        "DROPOUT = 0.2\n",
        "\n",
        "# Set a seed to decrease randomness\n",
        "SEED = 42\n",
        "tf.random.set_seed(SEED)\n",
        "np.random.seed(SEED)"
      ],
      "metadata": {
        "id": "r-ZrW4ltCuyj"
      },
      "execution_count": 16,
      "outputs": []
    },
    {
      "cell_type": "markdown",
      "source": [
        "### Load demo dataset"
      ],
      "metadata": {
        "id": "IefjmeGVCveP"
      }
    },
    {
      "cell_type": "code",
      "source": [
        "# Enter the name of your demo file here\n",
        "FILE_NAME = 'test.csv'"
      ],
      "metadata": {
        "id": "2OvtFuhOGF5_"
      },
      "execution_count": 18,
      "outputs": []
    },
    {
      "cell_type": "code",
      "source": [
        "demo = pd.read_csv('test.csv')"
      ],
      "metadata": {
        "id": "ncUdcNfTCzgB"
      },
      "execution_count": 19,
      "outputs": []
    },
    {
      "cell_type": "markdown",
      "source": [
        "### Set up tokenizer for DeBERTa model"
      ],
      "metadata": {
        "id": "WYMcjR8eC5ud"
      }
    },
    {
      "cell_type": "code",
      "source": [
        "tokenizer = AutoTokenizer.from_pretrained(\"microsoft/deberta-v3-base\")"
      ],
      "metadata": {
        "id": "a7vQ_90LC6OQ",
        "colab": {
          "base_uri": "https://localhost:8080/"
        },
        "outputId": "0430ed90-9e80-48f8-a524-87bea11b877f"
      },
      "execution_count": 20,
      "outputs": [
        {
          "output_type": "stream",
          "name": "stderr",
          "text": [
            "/usr/local/lib/python3.11/dist-packages/transformers/convert_slow_tokenizer.py:559: UserWarning: The sentencepiece tokenizer that you are converting to a fast tokenizer uses the byte fallback option which is not implemented in the fast tokenizers. In practice this means that the fast version of the tokenizer can produce unknown tokens whereas the sentencepiece version would have converted these unknown tokens into a sequence of byte tokens matching the original piece of text.\n",
            "  warnings.warn(\n"
          ]
        }
      ]
    },
    {
      "cell_type": "markdown",
      "source": [
        "### Tokenising and preparing inputs"
      ],
      "metadata": {
        "id": "enDf8OCWEBiK"
      }
    },
    {
      "cell_type": "code",
      "source": [
        "# Encode data with a max length of 100\n",
        "def bert_encode(hypotheses, premises, tokenizer, max_length=100):\n",
        "\n",
        "    x = tokenizer(hypotheses, premises, padding='max_length', truncation=True, max_length=max_length)\n",
        "\n",
        "    inputs = {\n",
        "          'input_word_ids':tf.ragged.constant(x['input_ids']).to_tensor(),\n",
        "          'input_mask': tf.ragged.constant(x['attention_mask']).to_tensor(),\n",
        "          'input_type_ids': tf.ragged.constant(x['token_type_ids']).to_tensor()}\n",
        "\n",
        "    return inputs"
      ],
      "metadata": {
        "id": "y5tVtE2pDZxD"
      },
      "execution_count": 30,
      "outputs": []
    },
    {
      "cell_type": "code",
      "source": [
        "demo_input = bert_encode(demo.premise.values.tolist(), demo.hypothesis.values.tolist(), tokenizer)"
      ],
      "metadata": {
        "id": "9w4H_GxDD8OK"
      },
      "execution_count": 31,
      "outputs": []
    },
    {
      "cell_type": "markdown",
      "source": [
        "### Define model"
      ],
      "metadata": {
        "id": "yIjVU6T8EHoS"
      }
    },
    {
      "cell_type": "code",
      "source": [
        "os.environ[\"WANDB_API_KEY\"] = \"0\"\n",
        "\n",
        "def build_model():\n",
        "    bert_encoder = TFAutoModel.from_pretrained(\"microsoft/deberta-v3-base\")\n",
        "    input_word_ids = tf.keras.layers.Input(shape=(MAX_SEQUENCE_LENGTH,), dtype=tf.int32, name=\"input_word_ids\")\n",
        "    input_mask = tf.keras.layers.Input(shape=(MAX_SEQUENCE_LENGTH,), dtype=tf.int32, name=\"input_mask\")\n",
        "    input_type_ids = tf.keras.Input(shape=(MAX_SEQUENCE_LENGTH,), dtype=tf.int32, name=\"input_type_ids\")\n",
        "\n",
        "    output = bert_encoder([input_word_ids, input_mask, input_type_ids])[0]\n",
        "    output = tf.keras.layers.GlobalAveragePooling1D()(output)\n",
        "\n",
        "    output = tf.keras.layers.Dropout(DROPOUT)(output)\n",
        "\n",
        "    output = tf.keras.layers.Dense(1, activation='sigmoid')(output)\n",
        "\n",
        "    model = tf.keras.Model(inputs=[input_word_ids, input_mask, input_type_ids], outputs=output)\n",
        "\n",
        "    return model"
      ],
      "metadata": {
        "id": "pmzZu45KEIlQ"
      },
      "execution_count": 23,
      "outputs": []
    },
    {
      "cell_type": "code",
      "source": [
        "model = build_model()\n",
        "model.summary()"
      ],
      "metadata": {
        "id": "MsMgqu87EXcP",
        "colab": {
          "base_uri": "https://localhost:8080/"
        },
        "outputId": "ed541f34-57f6-47dd-e2fa-fe23f8b7044e"
      },
      "execution_count": 24,
      "outputs": [
        {
          "output_type": "stream",
          "name": "stderr",
          "text": [
            "All model checkpoint layers were used when initializing TFDebertaV2Model.\n",
            "\n",
            "All the layers of TFDebertaV2Model were initialized from the model checkpoint at microsoft/deberta-v3-base.\n",
            "If your task is similar to the task the model of the checkpoint was trained on, you can already use TFDebertaV2Model for predictions without further training.\n"
          ]
        },
        {
          "output_type": "stream",
          "name": "stdout",
          "text": [
            "Model: \"model_1\"\n",
            "__________________________________________________________________________________________________\n",
            " Layer (type)                Output Shape                 Param #   Connected to                  \n",
            "==================================================================================================\n",
            " input_word_ids (InputLayer  [(None, 100)]                0         []                            \n",
            " )                                                                                                \n",
            "                                                                                                  \n",
            " input_mask (InputLayer)     [(None, 100)]                0         []                            \n",
            "                                                                                                  \n",
            " input_type_ids (InputLayer  [(None, 100)]                0         []                            \n",
            " )                                                                                                \n",
            "                                                                                                  \n",
            " tf_deberta_v2_model_1 (TFD  TFBaseModelOutput(last_hid   1838315   ['input_word_ids[0][0]',      \n",
            " ebertaV2Model)              den_state=(None, 100, 768)   52         'input_mask[0][0]',          \n",
            "                             , hidden_states=None, atte              'input_type_ids[0][0]']      \n",
            "                             ntions=None)                                                         \n",
            "                                                                                                  \n",
            " global_average_pooling1d_1  (None, 768)                  0         ['tf_deberta_v2_model_1[0][0]'\n",
            "  (GlobalAveragePooling1D)                                          ]                             \n",
            "                                                                                                  \n",
            " dropout_1 (Dropout)         (None, 768)                  0         ['global_average_pooling1d_1[0\n",
            "                                                                    ][0]']                        \n",
            "                                                                                                  \n",
            " dense_1 (Dense)             (None, 1)                    769       ['dropout_1[0][0]']           \n",
            "                                                                                                  \n",
            "==================================================================================================\n",
            "Total params: 183832321 (701.26 MB)\n",
            "Trainable params: 183832321 (701.26 MB)\n",
            "Non-trainable params: 0 (0.00 Byte)\n",
            "__________________________________________________________________________________________________\n"
          ]
        }
      ]
    },
    {
      "cell_type": "code",
      "source": [
        "# Load pretrained model\n",
        "model.load_weights('best.model.weights.h5')"
      ],
      "metadata": {
        "id": "HZUvwexsEb_t",
        "colab": {
          "base_uri": "https://localhost:8080/"
        },
        "outputId": "8388a68b-dde7-4c23-aca0-86a59b19e926"
      },
      "execution_count": 25,
      "outputs": [
        {
          "output_type": "stream",
          "name": "stderr",
          "text": [
            "/usr/local/lib/python3.11/dist-packages/transformers/generation/tf_utils.py:465: UserWarning: `seed_generator` is deprecated and will be removed in a future version.\n",
            "  warnings.warn(\"`seed_generator` is deprecated and will be removed in a future version.\", UserWarning)\n"
          ]
        }
      ]
    },
    {
      "cell_type": "markdown",
      "source": [
        "### Compute predictions"
      ],
      "metadata": {
        "id": "yL62lrUGEivr"
      }
    },
    {
      "cell_type": "code",
      "source": [
        "outputs = model.predict(demo_input)\n",
        "\n",
        "preds = outputs > 0.5"
      ],
      "metadata": {
        "id": "cYkhsod1Emnm",
        "colab": {
          "base_uri": "https://localhost:8080/"
        },
        "outputId": "f8b4ec07-5708-4892-eed4-8270666d3a81"
      },
      "execution_count": 33,
      "outputs": [
        {
          "output_type": "stream",
          "name": "stdout",
          "text": [
            "104/104 [==============================] - 37s 260ms/step\n"
          ]
        }
      ]
    },
    {
      "cell_type": "code",
      "source": [
        "demo['prediction'] = preds.astype(int).reshape(-1)"
      ],
      "metadata": {
        "id": "Ou_vfGnPHB9t"
      },
      "execution_count": 34,
      "outputs": []
    },
    {
      "cell_type": "code",
      "source": [
        "# Display the first 20 predictions\n",
        "demo.head(20)"
      ],
      "metadata": {
        "colab": {
          "base_uri": "https://localhost:8080/",
          "height": 676
        },
        "id": "m8XmqJjQG1x8",
        "outputId": "08777846-410f-4876-e173-11978d2f8c6d"
      },
      "execution_count": 35,
      "outputs": [
        {
          "output_type": "execute_result",
          "data": {
            "text/plain": [
              "                                              premise  \\\n",
              "0   Boy wearing red hat, blue jacket pushing plow ...   \n",
              "1   A blond woman in a black shirt is standing beh...   \n",
              "2   Three people in uniform are outdoors and are o...   \n",
              "3   A person, in a striped blue shirt and pants, i...   \n",
              "4   A man, woman, and child get their picture take...   \n",
              "5   A tennis player in blue shorts and a white shi...   \n",
              "6   A boy looks on at an electric device with thre...   \n",
              "7   A young girl is standing in a kitchen holding ...   \n",
              "8   Three men in yellow green safety vests sit on ...   \n",
              "9   man dressed in orange clothing with face cover...   \n",
              "10  A toddler is sitting at the bottom of a slide ...   \n",
              "11          A man examines a bike during a yard sale.   \n",
              "12  A boy scout with a red cap is looking through ...   \n",
              "13  Family gathered together in a house enjoying e...   \n",
              "14            The white dog is pulling a large stick.   \n",
              "15   A group of brown-haired teenagers doing laundry.   \n",
              "16  Two lacrosse players are running on the sports...   \n",
              "17  A man dressed in all white and wearing a white...   \n",
              "18  A group of people standing around smiling, and...   \n",
              "19            A boy works on a project in shop class.   \n",
              "\n",
              "                                           hypothesis  prediction  \n",
              "0                       The boy is surrounded by snow           1  \n",
              "1                              The woman is standing.           1  \n",
              "2                        Uniformed people are outside           1  \n",
              "3                               The person is running           1  \n",
              "4                     A family on vacation is posing.           1  \n",
              "5            The person is taking a nap in their bed.           0  \n",
              "6                   A boy is taking a nap in his bed.           0  \n",
              "7                  A boy is playing with a firetruck.           0  \n",
              "8          People are playing volleyball on the sand.           0  \n",
              "9                     Two men are in a shopping mall.           1  \n",
              "10                                A child is playing.           1  \n",
              "11                            A woman examines a bike           0  \n",
              "12                    There is a boy and a telescope.           1  \n",
              "13            A family is out to eat at a restaurant.           0  \n",
              "14                        The dog is pulling a stick.           1  \n",
              "15                  Group of teens are doing laundry.           1  \n",
              "16       No one who is shown has ever played a sport.           0  \n",
              "17                                 Nobody is standing           0  \n",
              "18  There is a group of people standing around and...           1  \n",
              "19  The boy peeks through a doorway at people work...           0  "
            ],
            "text/html": [
              "\n",
              "  <div id=\"df-87249123-f55a-4b64-8daa-a6b6266b55a1\" class=\"colab-df-container\">\n",
              "    <div>\n",
              "<style scoped>\n",
              "    .dataframe tbody tr th:only-of-type {\n",
              "        vertical-align: middle;\n",
              "    }\n",
              "\n",
              "    .dataframe tbody tr th {\n",
              "        vertical-align: top;\n",
              "    }\n",
              "\n",
              "    .dataframe thead th {\n",
              "        text-align: right;\n",
              "    }\n",
              "</style>\n",
              "<table border=\"1\" class=\"dataframe\">\n",
              "  <thead>\n",
              "    <tr style=\"text-align: right;\">\n",
              "      <th></th>\n",
              "      <th>premise</th>\n",
              "      <th>hypothesis</th>\n",
              "      <th>prediction</th>\n",
              "    </tr>\n",
              "  </thead>\n",
              "  <tbody>\n",
              "    <tr>\n",
              "      <th>0</th>\n",
              "      <td>Boy wearing red hat, blue jacket pushing plow ...</td>\n",
              "      <td>The boy is surrounded by snow</td>\n",
              "      <td>1</td>\n",
              "    </tr>\n",
              "    <tr>\n",
              "      <th>1</th>\n",
              "      <td>A blond woman in a black shirt is standing beh...</td>\n",
              "      <td>The woman is standing.</td>\n",
              "      <td>1</td>\n",
              "    </tr>\n",
              "    <tr>\n",
              "      <th>2</th>\n",
              "      <td>Three people in uniform are outdoors and are o...</td>\n",
              "      <td>Uniformed people are outside</td>\n",
              "      <td>1</td>\n",
              "    </tr>\n",
              "    <tr>\n",
              "      <th>3</th>\n",
              "      <td>A person, in a striped blue shirt and pants, i...</td>\n",
              "      <td>The person is running</td>\n",
              "      <td>1</td>\n",
              "    </tr>\n",
              "    <tr>\n",
              "      <th>4</th>\n",
              "      <td>A man, woman, and child get their picture take...</td>\n",
              "      <td>A family on vacation is posing.</td>\n",
              "      <td>1</td>\n",
              "    </tr>\n",
              "    <tr>\n",
              "      <th>5</th>\n",
              "      <td>A tennis player in blue shorts and a white shi...</td>\n",
              "      <td>The person is taking a nap in their bed.</td>\n",
              "      <td>0</td>\n",
              "    </tr>\n",
              "    <tr>\n",
              "      <th>6</th>\n",
              "      <td>A boy looks on at an electric device with thre...</td>\n",
              "      <td>A boy is taking a nap in his bed.</td>\n",
              "      <td>0</td>\n",
              "    </tr>\n",
              "    <tr>\n",
              "      <th>7</th>\n",
              "      <td>A young girl is standing in a kitchen holding ...</td>\n",
              "      <td>A boy is playing with a firetruck.</td>\n",
              "      <td>0</td>\n",
              "    </tr>\n",
              "    <tr>\n",
              "      <th>8</th>\n",
              "      <td>Three men in yellow green safety vests sit on ...</td>\n",
              "      <td>People are playing volleyball on the sand.</td>\n",
              "      <td>0</td>\n",
              "    </tr>\n",
              "    <tr>\n",
              "      <th>9</th>\n",
              "      <td>man dressed in orange clothing with face cover...</td>\n",
              "      <td>Two men are in a shopping mall.</td>\n",
              "      <td>1</td>\n",
              "    </tr>\n",
              "    <tr>\n",
              "      <th>10</th>\n",
              "      <td>A toddler is sitting at the bottom of a slide ...</td>\n",
              "      <td>A child is playing.</td>\n",
              "      <td>1</td>\n",
              "    </tr>\n",
              "    <tr>\n",
              "      <th>11</th>\n",
              "      <td>A man examines a bike during a yard sale.</td>\n",
              "      <td>A woman examines a bike</td>\n",
              "      <td>0</td>\n",
              "    </tr>\n",
              "    <tr>\n",
              "      <th>12</th>\n",
              "      <td>A boy scout with a red cap is looking through ...</td>\n",
              "      <td>There is a boy and a telescope.</td>\n",
              "      <td>1</td>\n",
              "    </tr>\n",
              "    <tr>\n",
              "      <th>13</th>\n",
              "      <td>Family gathered together in a house enjoying e...</td>\n",
              "      <td>A family is out to eat at a restaurant.</td>\n",
              "      <td>0</td>\n",
              "    </tr>\n",
              "    <tr>\n",
              "      <th>14</th>\n",
              "      <td>The white dog is pulling a large stick.</td>\n",
              "      <td>The dog is pulling a stick.</td>\n",
              "      <td>1</td>\n",
              "    </tr>\n",
              "    <tr>\n",
              "      <th>15</th>\n",
              "      <td>A group of brown-haired teenagers doing laundry.</td>\n",
              "      <td>Group of teens are doing laundry.</td>\n",
              "      <td>1</td>\n",
              "    </tr>\n",
              "    <tr>\n",
              "      <th>16</th>\n",
              "      <td>Two lacrosse players are running on the sports...</td>\n",
              "      <td>No one who is shown has ever played a sport.</td>\n",
              "      <td>0</td>\n",
              "    </tr>\n",
              "    <tr>\n",
              "      <th>17</th>\n",
              "      <td>A man dressed in all white and wearing a white...</td>\n",
              "      <td>Nobody is standing</td>\n",
              "      <td>0</td>\n",
              "    </tr>\n",
              "    <tr>\n",
              "      <th>18</th>\n",
              "      <td>A group of people standing around smiling, and...</td>\n",
              "      <td>There is a group of people standing around and...</td>\n",
              "      <td>1</td>\n",
              "    </tr>\n",
              "    <tr>\n",
              "      <th>19</th>\n",
              "      <td>A boy works on a project in shop class.</td>\n",
              "      <td>The boy peeks through a doorway at people work...</td>\n",
              "      <td>0</td>\n",
              "    </tr>\n",
              "  </tbody>\n",
              "</table>\n",
              "</div>\n",
              "    <div class=\"colab-df-buttons\">\n",
              "\n",
              "  <div class=\"colab-df-container\">\n",
              "    <button class=\"colab-df-convert\" onclick=\"convertToInteractive('df-87249123-f55a-4b64-8daa-a6b6266b55a1')\"\n",
              "            title=\"Convert this dataframe to an interactive table.\"\n",
              "            style=\"display:none;\">\n",
              "\n",
              "  <svg xmlns=\"http://www.w3.org/2000/svg\" height=\"24px\" viewBox=\"0 -960 960 960\">\n",
              "    <path d=\"M120-120v-720h720v720H120Zm60-500h600v-160H180v160Zm220 220h160v-160H400v160Zm0 220h160v-160H400v160ZM180-400h160v-160H180v160Zm440 0h160v-160H620v160ZM180-180h160v-160H180v160Zm440 0h160v-160H620v160Z\"/>\n",
              "  </svg>\n",
              "    </button>\n",
              "\n",
              "  <style>\n",
              "    .colab-df-container {\n",
              "      display:flex;\n",
              "      gap: 12px;\n",
              "    }\n",
              "\n",
              "    .colab-df-convert {\n",
              "      background-color: #E8F0FE;\n",
              "      border: none;\n",
              "      border-radius: 50%;\n",
              "      cursor: pointer;\n",
              "      display: none;\n",
              "      fill: #1967D2;\n",
              "      height: 32px;\n",
              "      padding: 0 0 0 0;\n",
              "      width: 32px;\n",
              "    }\n",
              "\n",
              "    .colab-df-convert:hover {\n",
              "      background-color: #E2EBFA;\n",
              "      box-shadow: 0px 1px 2px rgba(60, 64, 67, 0.3), 0px 1px 3px 1px rgba(60, 64, 67, 0.15);\n",
              "      fill: #174EA6;\n",
              "    }\n",
              "\n",
              "    .colab-df-buttons div {\n",
              "      margin-bottom: 4px;\n",
              "    }\n",
              "\n",
              "    [theme=dark] .colab-df-convert {\n",
              "      background-color: #3B4455;\n",
              "      fill: #D2E3FC;\n",
              "    }\n",
              "\n",
              "    [theme=dark] .colab-df-convert:hover {\n",
              "      background-color: #434B5C;\n",
              "      box-shadow: 0px 1px 3px 1px rgba(0, 0, 0, 0.15);\n",
              "      filter: drop-shadow(0px 1px 2px rgba(0, 0, 0, 0.3));\n",
              "      fill: #FFFFFF;\n",
              "    }\n",
              "  </style>\n",
              "\n",
              "    <script>\n",
              "      const buttonEl =\n",
              "        document.querySelector('#df-87249123-f55a-4b64-8daa-a6b6266b55a1 button.colab-df-convert');\n",
              "      buttonEl.style.display =\n",
              "        google.colab.kernel.accessAllowed ? 'block' : 'none';\n",
              "\n",
              "      async function convertToInteractive(key) {\n",
              "        const element = document.querySelector('#df-87249123-f55a-4b64-8daa-a6b6266b55a1');\n",
              "        const dataTable =\n",
              "          await google.colab.kernel.invokeFunction('convertToInteractive',\n",
              "                                                    [key], {});\n",
              "        if (!dataTable) return;\n",
              "\n",
              "        const docLinkHtml = 'Like what you see? Visit the ' +\n",
              "          '<a target=\"_blank\" href=https://colab.research.google.com/notebooks/data_table.ipynb>data table notebook</a>'\n",
              "          + ' to learn more about interactive tables.';\n",
              "        element.innerHTML = '';\n",
              "        dataTable['output_type'] = 'display_data';\n",
              "        await google.colab.output.renderOutput(dataTable, element);\n",
              "        const docLink = document.createElement('div');\n",
              "        docLink.innerHTML = docLinkHtml;\n",
              "        element.appendChild(docLink);\n",
              "      }\n",
              "    </script>\n",
              "  </div>\n",
              "\n",
              "\n",
              "<div id=\"df-fc4e0ae0-06cd-40ed-91a1-8abccc676dd6\">\n",
              "  <button class=\"colab-df-quickchart\" onclick=\"quickchart('df-fc4e0ae0-06cd-40ed-91a1-8abccc676dd6')\"\n",
              "            title=\"Suggest charts\"\n",
              "            style=\"display:none;\">\n",
              "\n",
              "<svg xmlns=\"http://www.w3.org/2000/svg\" height=\"24px\"viewBox=\"0 0 24 24\"\n",
              "     width=\"24px\">\n",
              "    <g>\n",
              "        <path d=\"M19 3H5c-1.1 0-2 .9-2 2v14c0 1.1.9 2 2 2h14c1.1 0 2-.9 2-2V5c0-1.1-.9-2-2-2zM9 17H7v-7h2v7zm4 0h-2V7h2v10zm4 0h-2v-4h2v4z\"/>\n",
              "    </g>\n",
              "</svg>\n",
              "  </button>\n",
              "\n",
              "<style>\n",
              "  .colab-df-quickchart {\n",
              "      --bg-color: #E8F0FE;\n",
              "      --fill-color: #1967D2;\n",
              "      --hover-bg-color: #E2EBFA;\n",
              "      --hover-fill-color: #174EA6;\n",
              "      --disabled-fill-color: #AAA;\n",
              "      --disabled-bg-color: #DDD;\n",
              "  }\n",
              "\n",
              "  [theme=dark] .colab-df-quickchart {\n",
              "      --bg-color: #3B4455;\n",
              "      --fill-color: #D2E3FC;\n",
              "      --hover-bg-color: #434B5C;\n",
              "      --hover-fill-color: #FFFFFF;\n",
              "      --disabled-bg-color: #3B4455;\n",
              "      --disabled-fill-color: #666;\n",
              "  }\n",
              "\n",
              "  .colab-df-quickchart {\n",
              "    background-color: var(--bg-color);\n",
              "    border: none;\n",
              "    border-radius: 50%;\n",
              "    cursor: pointer;\n",
              "    display: none;\n",
              "    fill: var(--fill-color);\n",
              "    height: 32px;\n",
              "    padding: 0;\n",
              "    width: 32px;\n",
              "  }\n",
              "\n",
              "  .colab-df-quickchart:hover {\n",
              "    background-color: var(--hover-bg-color);\n",
              "    box-shadow: 0 1px 2px rgba(60, 64, 67, 0.3), 0 1px 3px 1px rgba(60, 64, 67, 0.15);\n",
              "    fill: var(--button-hover-fill-color);\n",
              "  }\n",
              "\n",
              "  .colab-df-quickchart-complete:disabled,\n",
              "  .colab-df-quickchart-complete:disabled:hover {\n",
              "    background-color: var(--disabled-bg-color);\n",
              "    fill: var(--disabled-fill-color);\n",
              "    box-shadow: none;\n",
              "  }\n",
              "\n",
              "  .colab-df-spinner {\n",
              "    border: 2px solid var(--fill-color);\n",
              "    border-color: transparent;\n",
              "    border-bottom-color: var(--fill-color);\n",
              "    animation:\n",
              "      spin 1s steps(1) infinite;\n",
              "  }\n",
              "\n",
              "  @keyframes spin {\n",
              "    0% {\n",
              "      border-color: transparent;\n",
              "      border-bottom-color: var(--fill-color);\n",
              "      border-left-color: var(--fill-color);\n",
              "    }\n",
              "    20% {\n",
              "      border-color: transparent;\n",
              "      border-left-color: var(--fill-color);\n",
              "      border-top-color: var(--fill-color);\n",
              "    }\n",
              "    30% {\n",
              "      border-color: transparent;\n",
              "      border-left-color: var(--fill-color);\n",
              "      border-top-color: var(--fill-color);\n",
              "      border-right-color: var(--fill-color);\n",
              "    }\n",
              "    40% {\n",
              "      border-color: transparent;\n",
              "      border-right-color: var(--fill-color);\n",
              "      border-top-color: var(--fill-color);\n",
              "    }\n",
              "    60% {\n",
              "      border-color: transparent;\n",
              "      border-right-color: var(--fill-color);\n",
              "    }\n",
              "    80% {\n",
              "      border-color: transparent;\n",
              "      border-right-color: var(--fill-color);\n",
              "      border-bottom-color: var(--fill-color);\n",
              "    }\n",
              "    90% {\n",
              "      border-color: transparent;\n",
              "      border-bottom-color: var(--fill-color);\n",
              "    }\n",
              "  }\n",
              "</style>\n",
              "\n",
              "  <script>\n",
              "    async function quickchart(key) {\n",
              "      const quickchartButtonEl =\n",
              "        document.querySelector('#' + key + ' button');\n",
              "      quickchartButtonEl.disabled = true;  // To prevent multiple clicks.\n",
              "      quickchartButtonEl.classList.add('colab-df-spinner');\n",
              "      try {\n",
              "        const charts = await google.colab.kernel.invokeFunction(\n",
              "            'suggestCharts', [key], {});\n",
              "      } catch (error) {\n",
              "        console.error('Error during call to suggestCharts:', error);\n",
              "      }\n",
              "      quickchartButtonEl.classList.remove('colab-df-spinner');\n",
              "      quickchartButtonEl.classList.add('colab-df-quickchart-complete');\n",
              "    }\n",
              "    (() => {\n",
              "      let quickchartButtonEl =\n",
              "        document.querySelector('#df-fc4e0ae0-06cd-40ed-91a1-8abccc676dd6 button');\n",
              "      quickchartButtonEl.style.display =\n",
              "        google.colab.kernel.accessAllowed ? 'block' : 'none';\n",
              "    })();\n",
              "  </script>\n",
              "</div>\n",
              "\n",
              "    </div>\n",
              "  </div>\n"
            ],
            "application/vnd.google.colaboratory.intrinsic+json": {
              "type": "dataframe",
              "variable_name": "demo",
              "summary": "{\n  \"name\": \"demo\",\n  \"rows\": 3302,\n  \"fields\": [\n    {\n      \"column\": \"premise\",\n      \"properties\": {\n        \"dtype\": \"string\",\n        \"num_unique_values\": 2454,\n        \"samples\": [\n          \"People sitting on benches in a public area.\",\n          \"A young boy wearing an orange uniform stands on the field near a colorful ball.\",\n          \"Two young children, one wearing a red striped shirt, are looking in through the window while an adult in a pink shirt watches from behind.\"\n        ],\n        \"semantic_type\": \"\",\n        \"description\": \"\"\n      }\n    },\n    {\n      \"column\": \"hypothesis\",\n      \"properties\": {\n        \"dtype\": \"string\",\n        \"num_unique_values\": 3259,\n        \"samples\": [\n          \"Someone was trying to take a shortcut home.\",\n          \"A group of people ride bikes together down a street.\",\n          \"A man rides horseback in the field.\"\n        ],\n        \"semantic_type\": \"\",\n        \"description\": \"\"\n      }\n    },\n    {\n      \"column\": \"prediction\",\n      \"properties\": {\n        \"dtype\": \"number\",\n        \"std\": 0,\n        \"min\": 0,\n        \"max\": 1,\n        \"num_unique_values\": 2,\n        \"samples\": [\n          0,\n          1\n        ],\n        \"semantic_type\": \"\",\n        \"description\": \"\"\n      }\n    }\n  ]\n}"
            }
          },
          "metadata": {},
          "execution_count": 35
        }
      ]
    },
    {
      "cell_type": "markdown",
      "source": [
        "### Saving predictions only"
      ],
      "metadata": {
        "id": "8IfsKgnhHRu_"
      }
    },
    {
      "cell_type": "code",
      "source": [
        "preds_df = pd.DataFrame({'prediction': preds.astype(int).reshape(-1)})\n",
        "\n",
        "preds_df.to_csv('predictions.csv', index=False)"
      ],
      "metadata": {
        "id": "K3lsOF15HINw"
      },
      "execution_count": 36,
      "outputs": []
    }
  ]
}