{
  "cells": [
    {
      "cell_type": "markdown",
      "metadata": {
        "id": "_Ldx0fHZgB3h"
      },
      "source": [
        "### Setting up and retrieving data"
      ]
    },
    {
      "cell_type": "markdown",
      "metadata": {
        "id": "OvkvDLA9gB3k"
      },
      "source": [
        "#### Imports\n",
        "Performing the necessary imports for the file to run. Main imports that are used are as follows:\n",
        "- pandas/numpy: Working with data\n",
        "- transformers: BERT Tokenizer\n",
        "- keras: Model Architecture\n",
        "- matplotlib: Visualisation of performance\n",
        "- sklearn: Evaluation"
      ]
    },
    {
      "cell_type": "code",
      "execution_count": 25,
      "metadata": {
        "id": "sXW2alqilxI9"
      },
      "outputs": [],
      "source": [
        "import os\n",
        "import pandas as pd\n",
        "import numpy as np\n",
        "\n",
        "from transformers import AutoTokenizer, TFBertModel\n",
        "\n",
        "import tensorflow as tf\n",
        "\n",
        "# from keras.layers import Layer\n",
        "\n",
        "import matplotlib.pyplot as plt\n",
        "\n",
        "from sklearn.metrics import accuracy_score, f1_score, precision_score, recall_score, matthews_corrcoef, roc_auc_score"
      ]
    },
    {
      "cell_type": "code",
      "execution_count": 26,
      "metadata": {
        "id": "jczMstIegB3m"
      },
      "outputs": [],
      "source": [
        "# Hyperparameters\n",
        "MAX_VOCAB_SIZE = 10000\n",
        "MAX_SEQUENCE_LENGTH = 100\n",
        "EPOCHS = 10\n",
        "BATCH_SIZE = 16\n",
        "LSTM_UNITS = 64\n",
        "\n",
        "# Set a seed to decrease randomness\n",
        "SEED = 42\n",
        "tf.random.set_seed(SEED)\n",
        "\n",
        "# Set the glove file to refer to\n",
        "MODEL_NAME = 'bert-base-uncased'\n",
        "TOKENIZER_NAME = 'bilstm.' + MODEL_NAME + '.tokenizer.json'\n",
        "SAVED_NAME = 'bilstm.' + MODEL_NAME + '.keras'\n",
        "WEIGHTS_FILE = 'bilstm.'+ MODEL_NAME +'.weights.h5'"
      ]
    },
    {
      "cell_type": "markdown",
      "metadata": {
        "id": "4bV5mGdKgB3m"
      },
      "source": [
        "#### Load CSV files\n",
        "Loading CSV files from the train and dev csv for preprocessing"
      ]
    },
    {
      "cell_type": "code",
      "execution_count": 27,
      "metadata": {
        "id": "n1mjRBSUgB3n"
      },
      "outputs": [],
      "source": [
        "train = pd.read_csv('train.csv')\n",
        "valid = pd.read_csv('dev.csv')"
      ]
    },
    {
      "cell_type": "markdown",
      "metadata": {
        "id": "bmw9q_c0gB3n"
      },
      "source": [
        "#### Set up BERT-based Tokenizer\n",
        "Instantiates the tokenizer based on the model name above and define functions for encoding sentences"
      ]
    },
    {
      "cell_type": "code",
      "execution_count": 28,
      "metadata": {
        "id": "cO_wfandmuC-"
      },
      "outputs": [],
      "source": [
        "# Instantiate Tokenizer on MODEL_NAME (BERT)\n",
        "tokenizer = AutoTokenizer.from_pretrained(MODEL_NAME)\n",
        "\n",
        "# Encodes sentence\n",
        "def encode_sentence(s):\n",
        "   tokens = list(tokenizer.tokenize(s))\n",
        "   tokens.append('[SEP]')\n",
        "   return tokenizer.convert_tokens_to_ids(tokens)\n",
        "\n",
        "# Encode data for the bert model with a max length of MAX_SEQUENCE_LENGTH\n",
        "def bert_encode(hypotheses, premises, tokenizer, max_length=MAX_SEQUENCE_LENGTH):\n",
        "\n",
        "    x = [h + ' [SEP] ' + p for h, p in zip(np.array(hypotheses), np.array(premises))]\n",
        "    x = tokenizer(x, padding=True, truncation=True, max_length=max_length)\n",
        "\n",
        "    inputs = {\n",
        "          'input_word_ids':tf.ragged.constant(x['input_ids']).to_tensor(),\n",
        "          'input_mask': tf.ragged.constant(x['attention_mask']).to_tensor(),\n",
        "          'input_type_ids': tf.ragged.constant(x['token_type_ids']).to_tensor()}\n",
        "\n",
        "    return inputs"
      ]
    },
    {
      "cell_type": "code",
      "execution_count": 29,
      "metadata": {
        "id": "4Kes3HSonWUr"
      },
      "outputs": [],
      "source": [
        "# Encode train inputs\n",
        "train_input = bert_encode(train.premise.values, train.hypothesis.values, tokenizer)"
      ]
    },
    {
      "cell_type": "code",
      "source": [
        "# Encode both train and valid inputs\n",
        "valid_input = bert_encode(valid.premise.values, valid.hypothesis.values, tokenizer)"
      ],
      "metadata": {
        "id": "D8JC4_92yHEU"
      },
      "execution_count": 30,
      "outputs": []
    },
    {
      "cell_type": "markdown",
      "metadata": {
        "id": "W5ePoK4lgB3o"
      },
      "source": [
        "### Model Architecture\n"
      ]
    },
    {
      "cell_type": "code",
      "execution_count": 31,
      "metadata": {
        "id": "zBahZ9cDnpRh",
        "colab": {
          "base_uri": "https://localhost:8080/"
        },
        "outputId": "cd72036b-de74-4ba3-ed55-930094d25a15"
      },
      "outputs": [
        {
          "output_type": "stream",
          "name": "stderr",
          "text": [
            "Some weights of the PyTorch model were not used when initializing the TF 2.0 model TFBertModel: ['cls.predictions.bias', 'cls.predictions.transform.LayerNorm.bias', 'cls.predictions.transform.dense.bias', 'cls.seq_relationship.bias', 'cls.predictions.transform.LayerNorm.weight', 'cls.predictions.transform.dense.weight', 'cls.seq_relationship.weight']\n",
            "- This IS expected if you are initializing TFBertModel from a PyTorch model trained on another task or with another architecture (e.g. initializing a TFBertForSequenceClassification model from a BertForPreTraining model).\n",
            "- This IS NOT expected if you are initializing TFBertModel from a PyTorch model that you expect to be exactly identical (e.g. initializing a TFBertForSequenceClassification model from a BertForSequenceClassification model).\n",
            "All the weights of TFBertModel were initialized from the PyTorch model.\n",
            "If your task is similar to the task the model of the checkpoint was trained on, you can already use TFBertModel for predictions without further training.\n"
          ]
        },
        {
          "output_type": "stream",
          "name": "stdout",
          "text": [
            "Model: \"model_2\"\n",
            "__________________________________________________________________________________________________\n",
            " Layer (type)                Output Shape                 Param #   Connected to                  \n",
            "==================================================================================================\n",
            " input_word_ids (InputLayer  [(None, 100)]                0         []                            \n",
            " )                                                                                                \n",
            "                                                                                                  \n",
            " input_mask (InputLayer)     [(None, 100)]                0         []                            \n",
            "                                                                                                  \n",
            " input_type_ids (InputLayer  [(None, 100)]                0         []                            \n",
            " )                                                                                                \n",
            "                                                                                                  \n",
            " tf_bert_model_2 (TFBertMod  TFBaseModelOutputWithPooli   1094822   ['input_word_ids[0][0]',      \n",
            " el)                         ngAndCrossAttentions(last_   40         'input_mask[0][0]',          \n",
            "                             hidden_state=(None, 100, 7              'input_type_ids[0][0]']      \n",
            "                             68),                                                                 \n",
            "                              pooler_output=(None, 768)                                           \n",
            "                             , past_key_values=None, hi                                           \n",
            "                             dden_states=None, attentio                                           \n",
            "                             ns=None, cross_attentions=                                           \n",
            "                             None)                                                                \n",
            "                                                                                                  \n",
            " bidirectional_2 (Bidirecti  (None, 128)                  426496    ['tf_bert_model_2[0][0]']     \n",
            " onal)                                                                                            \n",
            "                                                                                                  \n",
            " batch_normalization_4 (Bat  (None, 128)                  512       ['bidirectional_2[0][0]']     \n",
            " chNormalization)                                                                                 \n",
            "                                                                                                  \n",
            " dropout_115 (Dropout)       (None, 128)                  0         ['batch_normalization_4[0][0]'\n",
            "                                                                    ]                             \n",
            "                                                                                                  \n",
            " dense_4 (Dense)             (None, 64)                   8256      ['dropout_115[0][0]']         \n",
            "                                                                                                  \n",
            " batch_normalization_5 (Bat  (None, 64)                   256       ['dense_4[0][0]']             \n",
            " chNormalization)                                                                                 \n",
            "                                                                                                  \n",
            " dropout_116 (Dropout)       (None, 64)                   0         ['batch_normalization_5[0][0]'\n",
            "                                                                    ]                             \n",
            "                                                                                                  \n",
            " dense_5 (Dense)             (None, 1)                    65        ['dropout_116[0][0]']         \n",
            "                                                                                                  \n",
            "==================================================================================================\n",
            "Total params: 109917825 (419.30 MB)\n",
            "Trainable params: 435201 (1.66 MB)\n",
            "Non-trainable params: 109482624 (417.64 MB)\n",
            "__________________________________________________________________________________________________\n"
          ]
        }
      ],
      "source": [
        "os.environ[\"WANDB_API_KEY\"] = \"0\"\n",
        "\n",
        "# Defining an attention class\n",
        "# class Attention(Layer):\n",
        "#     def __init__(self, **kwargs):\n",
        "#         super(Attention, self).__init__(**kwargs)\n",
        "\n",
        "#     def build(self, input_shape):\n",
        "#         self.W = self.add_weight(name=\"att_weight\", shape=(input_shape[-1], 1), initializer=\"normal\", trainable=True)\n",
        "#         self.b = self.add_weight(name=\"att_bias\", shape=(1,), initializer=\"zeros\", trainable=True)\n",
        "#         super(Attention, self).build(input_shape)\n",
        "\n",
        "#     def call(self, inputs):\n",
        "#         e = K.tanh(K.dot(inputs, self.W) + self.b)  # Compute attention scores\n",
        "#         a = K.softmax(e, axis=1)  # Softmax over time axis\n",
        "#         output = inputs * a  # Apply attention weights\n",
        "#         return K.sum(output, axis=1)  # Weighted sum over time axis\n",
        "\n",
        "# Define function to build the model\n",
        "def build_model():\n",
        "    # BERT encoder layer that is non-trainable\n",
        "    bert_encoder = TFBertModel.from_pretrained(MODEL_NAME, trainable=False)\n",
        "\n",
        "    # Tokenized input sequence (word indices), Mask to indicate real tokens/padding, Type Ids\n",
        "    input_word_ids = tf.keras.Input(shape=(MAX_SEQUENCE_LENGTH,), dtype=tf.int32, name=\"input_word_ids\")\n",
        "    input_mask = tf.keras.Input(shape=(MAX_SEQUENCE_LENGTH,), dtype=tf.int32, name=\"input_mask\")\n",
        "    input_type_ids = tf.keras.Input(shape=(MAX_SEQUENCE_LENGTH,), dtype=tf.int32, name=\"input_type_ids\")\n",
        "\n",
        "    # Encodes all 3 inputs\n",
        "    output = bert_encoder([input_word_ids, input_mask, input_type_ids])[0]\n",
        "\n",
        "    # BiLSTM layer and normalisation to prevent overfitting.\n",
        "    output = tf.keras.layers.Bidirectional(tf.keras.layers.LSTM(LSTM_UNITS))(output)\n",
        "    output = tf.keras.layers.BatchNormalization()(output)\n",
        "    output = tf.keras.layers.Dropout(0.1)(output)\n",
        "    output = tf.keras.layers.Dense(64, activation='relu')(output)\n",
        "    output = tf.keras.layers.BatchNormalization()(output)\n",
        "    output = tf.keras.layers.Dropout(0.1)(output)\n",
        "\n",
        "    # Output layer\n",
        "    output = tf.keras.layers.Dense(1, activation='sigmoid')(output)\n",
        "\n",
        "    # Returns the model\n",
        "    return tf.keras.Model(inputs=[input_word_ids, input_mask, input_type_ids], outputs=output)\n",
        "\n",
        "# Builds the model\n",
        "model = build_model()\n",
        "model.summary()"
      ]
    },
    {
      "cell_type": "code",
      "execution_count": 32,
      "metadata": {
        "id": "_41FVGva_TKV"
      },
      "outputs": [],
      "source": [
        "# Compiles the model\n",
        "model.compile(optimizer='adam', loss='binary_crossentropy', metrics=['accuracy'])"
      ]
    },
    {
      "cell_type": "code",
      "execution_count": 33,
      "metadata": {
        "id": "DKcaaqQ7gB3p"
      },
      "outputs": [],
      "source": [
        "# Setting up Early Stopping with callback to checkpoint for the training of the model which monitors val loss\n",
        "early_stopping = tf.keras.callbacks.EarlyStopping(monitor='val_loss', mode='min', patience=3)\n",
        "checkpoint_filepath = WEIGHTS_FILE\n",
        "\n",
        "model_checkpoint_callback = tf.keras.callbacks.ModelCheckpoint(\n",
        "    filepath=checkpoint_filepath,\n",
        "    monitor='val_accuracy',\n",
        "    mode='max',\n",
        "    save_best_only=True,\n",
        "    save_weights_only=True)"
      ]
    },
    {
      "cell_type": "markdown",
      "metadata": {
        "id": "JEfLEjyugB3p"
      },
      "source": [
        "### Training the model\n",
        "Firstly, creating tensorflow datasets from both the training and validation set. Then, proceed to fit the model."
      ]
    },
    {
      "cell_type": "code",
      "execution_count": 34,
      "metadata": {
        "id": "Xi_VakMB_U08"
      },
      "outputs": [],
      "source": [
        "# Create a TensorFlow dataset from the training data and shuffles them with seed=42\n",
        "train_dataset = tf.data.Dataset.from_tensor_slices((train_input, train.label.values.reshape(-1,1)))\n",
        "train_dataset = train_dataset.shuffle(SEED, reshuffle_each_iteration=True).batch(BATCH_SIZE)\n",
        "\n",
        "# Create a TensorFlow dataset from the valid data and batch them up\n",
        "valid_dataset = tf.data.Dataset.from_tensor_slices((valid_input, valid.label.values.reshape(-1,1)))\n",
        "valid_dataset = valid_dataset.batch(BATCH_SIZE)"
      ]
    },
    {
      "cell_type": "code",
      "execution_count": 35,
      "metadata": {
        "colab": {
          "base_uri": "https://localhost:8080/"
        },
        "id": "F63ah_TNoEYN",
        "outputId": "da3cb44c-84d0-43c4-e23d-afd99db48ea7"
      },
      "outputs": [
        {
          "output_type": "stream",
          "name": "stdout",
          "text": [
            "Epoch 1/10\n",
            "1527/1527 [==============================] - ETA: 0s - loss: 0.6786 - accuracy: 0.5980"
          ]
        },
        {
          "output_type": "stream",
          "name": "stderr",
          "text": [
            "/usr/local/lib/python3.11/dist-packages/transformers/generation/tf_utils.py:465: UserWarning: `seed_generator` is deprecated and will be removed in a future version.\n",
            "  warnings.warn(\"`seed_generator` is deprecated and will be removed in a future version.\", UserWarning)\n"
          ]
        },
        {
          "output_type": "stream",
          "name": "stdout",
          "text": [
            "\b\b\b\b\b\b\b\b\b\b\b\b\b\b\b\b\b\b\b\b\b\b\b\b\b\b\b\b\b\b\b\b\b\b\b\b\b\b\b\b\b\b\b\b\b\b\b\b\b\b\b\b\b\b\b\b\b\b\b\b\b\b\b\b\b\b\b\b\b\b\b\b\b\b\b\b\b\b\b\b\b\b\b\b\b\b\r1527/1527 [==============================] - 312s 193ms/step - loss: 0.6786 - accuracy: 0.5980 - val_loss: 0.6633 - val_accuracy: 0.6140\n",
            "Epoch 2/10\n",
            "1527/1527 [==============================] - 256s 168ms/step - loss: 0.6200 - accuracy: 0.6559 - val_loss: 0.6652 - val_accuracy: 0.6254\n",
            "Epoch 3/10\n",
            "1527/1527 [==============================] - 258s 169ms/step - loss: 0.5831 - accuracy: 0.6925 - val_loss: 0.5774 - val_accuracy: 0.6939\n",
            "Epoch 4/10\n",
            "1527/1527 [==============================] - 251s 164ms/step - loss: 0.5556 - accuracy: 0.7130 - val_loss: 0.5962 - val_accuracy: 0.6779\n",
            "Epoch 5/10\n",
            "1527/1527 [==============================] - 250s 164ms/step - loss: 0.5296 - accuracy: 0.7374 - val_loss: 0.5873 - val_accuracy: 0.6923\n",
            "Epoch 6/10\n",
            "1527/1527 [==============================] - 257s 168ms/step - loss: 0.5062 - accuracy: 0.7537 - val_loss: 0.6091 - val_accuracy: 0.7006\n"
          ]
        }
      ],
      "source": [
        "# Fitting the model\n",
        "history = model.fit(\n",
        "    train_dataset,\n",
        "    epochs = EPOCHS,\n",
        "    verbose = 1,\n",
        "    validation_data = valid_dataset,\n",
        "    callbacks=[early_stopping, model_checkpoint_callback]\n",
        ")\n",
        "\n",
        "# Saving the model\n",
        "model.save(SAVED_NAME)"
      ]
    },
    {
      "cell_type": "code",
      "execution_count": 36,
      "metadata": {
        "colab": {
          "base_uri": "https://localhost:8080/",
          "height": 472
        },
        "id": "GbRmf1xrgB3q",
        "outputId": "f118368a-4a22-4b7f-e603-78591eb2d230"
      },
      "outputs": [
        {
          "output_type": "display_data",
          "data": {
            "text/plain": [
              "<Figure size 640x480 with 1 Axes>"
            ],
            "image/png": "[encoded data removed]"
          },
          "metadata": {}
        }
      ],
      "source": [
        "# Visualisation of the performance of the val loss across epoch\n",
        "val_loss = history.history['val_loss']\n",
        "\n",
        "# Plot the validation loss over epochs\n",
        "plt.plot(range(1, len(val_loss) + 1), val_loss, marker='o', linestyle='-', color='b', label=\"Validation Loss\")\n",
        "\n",
        "# Labeling the graph\n",
        "plt.xlabel(\"Epochs\")\n",
        "plt.ylabel(\"Validation Loss\")\n",
        "plt.title(\"Validation Loss Over Epochs\")\n",
        "plt.legend()\n",
        "plt.grid(True)\n",
        "\n",
        "# Show the plot\n",
        "plt.show()"
      ]
    },
    {
      "cell_type": "markdown",
      "metadata": {
        "id": "tCHcYnaagB3q"
      },
      "source": [
        "### Predicting using the model"
      ]
    },
    {
      "cell_type": "code",
      "execution_count": 39,
      "metadata": {
        "id": "Ju1IPf6vBeoz",
        "colab": {
          "base_uri": "https://localhost:8080/"
        },
        "outputId": "05358f13-fd5f-40e9-a029-7591757a0169"
      },
      "outputs": [
        {
          "output_type": "stream",
          "name": "stderr",
          "text": [
            "WARNING:absl:Skipping variable loading for optimizer 'Adam', because it has 427 variables whereas the saved optimizer has 29 variables. \n",
            "/usr/local/lib/python3.11/dist-packages/transformers/generation/tf_utils.py:465: UserWarning: `seed_generator` is deprecated and will be removed in a future version.\n",
            "  warnings.warn(\"`seed_generator` is deprecated and will be removed in a future version.\", UserWarning)\n"
          ]
        },
        {
          "output_type": "stream",
          "name": "stdout",
          "text": [
            "211/211 [==============================] - 51s 222ms/step\n"
          ]
        }
      ],
      "source": [
        "# Load the entire model in\n",
        "test_model = tf.keras.models.load_model(SAVED_NAME, custom_objects={'TFBertModel': TFBertModel})\n",
        "# model.load_weights('best.model.weights.h5')\n",
        "\n",
        "# Use the model to predict the valid input\n",
        "outputs = test_model.predict(valid_input)"
      ]
    },
    {
      "cell_type": "code",
      "execution_count": 40,
      "metadata": {
        "colab": {
          "base_uri": "https://localhost:8080/"
        },
        "id": "83R5WbOxKbxO",
        "outputId": "12d90dbc-3b1e-4e7d-c448-3bed6cd73b54"
      },
      "outputs": [
        {
          "output_type": "stream",
          "name": "stdout",
          "text": [
            "Accuracy: 0.7006\n",
            "F1 Score: 0.6633\n",
            "Precision: 0.7907\n",
            "Recall: 0.5713\n",
            "MCC: 0.4235\n",
            "ROC AUC Score: 0.7049\n"
          ]
        }
      ],
      "source": [
        "# Convert probabilities to classes and reshape\n",
        "preds = outputs > 0.5\n",
        "labels = valid.label.values.reshape(-1,1)\n",
        "\n",
        "# Evaluate results\n",
        "print(f\"Accuracy: {accuracy_score(labels, preds):.4f}\")\n",
        "print(f\"F1 Score: {f1_score(labels, preds):.4f}\")\n",
        "print(f\"Precision: {precision_score(labels, preds):.4f}\")\n",
        "print(f\"Recall: {recall_score(labels, preds):.4f}\")\n",
        "print(f\"MCC: {matthews_corrcoef(labels, preds):.4f}\")\n",
        "print(f\"ROC AUC Score: {roc_auc_score(labels, preds):.4f}\")"
      ]
    }
  ],
  "metadata": {
    "accelerator": "GPU",
    "colab": {
      "gpuType": "T4",
      "provenance": []
    },
    "kernelspec": {
      "display_name": "Python 3",
      "language": "python",
      "name": "python3"
    },
    "language_info": {
      "codemirror_mode": {
        "name": "ipython",
        "version": 3
      },
      "file_extension": ".py",
      "mimetype": "text/x-python",
      "name": "python",
      "nbconvert_exporter": "python",
      "pygments_lexer": "ipython3",
      "version": "3.12.5"
    }
  },
  "nbformat": 4,
  "nbformat_minor": 0
}