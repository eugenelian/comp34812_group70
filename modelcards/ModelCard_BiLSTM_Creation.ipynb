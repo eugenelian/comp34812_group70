{
 "cells": [
  {
   "cell_type": "markdown",
   "metadata": {
    "id": "3y5__yaUKyb1"
   },
   "source": [
    "The model card template makes use of Jinja, hence we need to install the necessary package."
   ]
  },
  {
   "cell_type": "code",
   "execution_count": 6,
   "metadata": {
    "colab": {
     "base_uri": "https://localhost:8080/"
    },
    "executionInfo": {
     "elapsed": 4350,
     "status": "ok",
     "timestamp": 1739734646291,
     "user": {
      "displayName": "rbbatista",
      "userId": "16466300301400709217"
     },
     "user_tz": 0
    },
    "id": "kjSmXdzczFoh",
    "outputId": "27891584-dbd5-4970-fcd4-a49e682827fc"
   },
   "outputs": [
    {
     "name": "stdout",
     "output_type": "stream",
     "text": [
      "Requirement already satisfied: Jinja2 in c:\\users\\user\\anaconda3\\lib\\site-packages (2.11.3)\n",
      "Requirement already satisfied: MarkupSafe>=0.23 in c:\\users\\user\\anaconda3\\lib\\site-packages (from Jinja2) (2.0.1)\n"
     ]
    }
   ],
   "source": [
    "!pip install Jinja2"
   ]
  },
  {
   "cell_type": "markdown",
   "metadata": {
    "id": "Puto8-5ILO2s"
   },
   "source": [
    "Required import statement"
   ]
  },
  {
   "cell_type": "code",
   "execution_count": 7,
   "metadata": {
    "executionInfo": {
     "elapsed": 1091,
     "status": "ok",
     "timestamp": 1739734647380,
     "user": {
      "displayName": "rbbatista",
      "userId": "16466300301400709217"
     },
     "user_tz": 0
    },
    "id": "inUOAq0Yy_O5"
   },
   "outputs": [
    {
     "ename": "ModuleNotFoundError",
     "evalue": "No module named 'huggingface_hub'",
     "output_type": "error",
     "traceback": [
      "\u001b[1;31m---------------------------------------------------------------------------\u001b[0m",
      "\u001b[1;31mModuleNotFoundError\u001b[0m                       Traceback (most recent call last)",
      "Input \u001b[1;32mIn [7]\u001b[0m, in \u001b[0;36m<cell line: 1>\u001b[1;34m()\u001b[0m\n\u001b[1;32m----> 1\u001b[0m \u001b[38;5;28;01mfrom\u001b[39;00m \u001b[38;5;21;01mhuggingface_hub\u001b[39;00m \u001b[38;5;28;01mimport\u001b[39;00m ModelCard, ModelCardData\n",
      "\u001b[1;31mModuleNotFoundError\u001b[0m: No module named 'huggingface_hub'"
     ]
    }
   ],
   "source": [
    "from huggingface_hub import ModelCard, ModelCardData"
   ]
  },
  {
   "cell_type": "markdown",
   "metadata": {
    "id": "TX5nkStaLTRC"
   },
   "source": [
    "Before running the cell below, upload the model card template (`COMP34812_modelcard_template.md`) provided to you using the Colab file browser (on the left-hand side)."
   ]
  },
  {
   "cell_type": "code",
   "execution_count": null,
   "metadata": {
    "colab": {
     "base_uri": "https://localhost:8080/"
    },
    "executionInfo": {
     "elapsed": 2,
     "status": "ok",
     "timestamp": 1739734647381,
     "user": {
      "displayName": "rbbatista",
      "userId": "16466300301400709217"
     },
     "user_tz": 0
    },
    "id": "pg4o6fuPbl5X",
    "outputId": "2a50a3a5-c07e-4777-bf8c-3e555af6518c"
   },
   "outputs": [
    {
     "name": "stderr",
     "output_type": "stream",
     "text": [
      "Repo card metadata block was not found. Setting CardData to empty.\n",
      "WARNING:huggingface_hub.repocard:Repo card metadata block was not found. Setting CardData to empty.\n"
     ]
    }
   ],
   "source": [
    "card_data = ModelCardData(\n",
    "    language='en',\n",
    "    license='cc-by-4.0',\n",
    "    tags=['pairwise-sequence-classification', 'natural-language-inference'],\n",
    "    # change the line below to specify the URL to your Github/Gitlab repo\n",
    "    repo=\"https://github.com/eugenelian/comp34812_bilstm\",\n",
    "    ignore_metadata_errors=True)\n",
    "\n",
    "card = ModelCard.from_template(\n",
    "    card_data = card_data,\n",
    "    template_path='COMP34812_modelcard_bilstm.md',\n",
    "    # change the following line to indicate your respective usernames\n",
    "    # and the abbreviation of the relevant track name, e.g., NLI, ED, AV\n",
    "    model_id = 'n46491el-p40327sm-NLI',\n",
    "\n",
    "    # the following lines were provided to give you an example value for each attribute\n",
    "    model_summary = '''This is a pairwise sequence classification model that was trained to\n",
    "      detect whether a piece of text is true based on the premise piece of text.''',\n",
    "    model_description = '''This Bidirectional Long Short-Term Memory (BiLSTM) model is based upon a recurrent neural network that was fine-tuned\n",
    "      on 24K pairs of texts.''',\n",
    "    developers = 'Eugene Lian and Steven Moussa',\n",
    "    base_model_repo = 'https://huggingface.co/google-bert/bert-base-uncased',\n",
    "    base_model_paper = 'https://aclanthology.org/N19-1423.pdf',\n",
    "    model_type = 'Deep learning-based approaches that do not employ transformer architectures',\n",
    "    model_architecture = 'BiLSTM',\n",
    "    language = 'English',\n",
    "    base_model = 'BiLSTM',\n",
    "    training_data = '24K premise-hypothesis pairs of texts.',\n",
    "    hyperparameters = '''\n",
    "      - learning_rate: 0.001\n",
    "      - train_batch_size: 16\n",
    "      - eval_batch_size: 16\n",
    "      - seed: 42\n",
    "      - num_epochs: 10''',\n",
    "    speeds_sizes_times = '''\n",
    "      - overall training time: 15 minutes\n",
    "      - duration per training epoch: 72 seconds\n",
    "      - model size: 100MB''',\n",
    "    testing_data = 'A subset of the development set provided, amounting to 2K pairs.',\n",
    "    testing_metrics = '''\n",
    "      - Precision\n",
    "      - Recall\n",
    "      - F1-score\n",
    "      - Accuracy''',\n",
    "    results = 'The model obtained an F1-score of 70% and an accuracy of 70%.',\n",
    "    hardware_requirements = '''\n",
    "      - RAM: at least 16 GB\n",
    "      - Storage: at least 2GB,\n",
    "      - GPU: V100''',\n",
    "    software = '''\n",
    "      - Transformers 4.18.0\n",
    "      - Pytorch 1.11.0+cu113''',\n",
    "    bias_risks_limitations = '''Any inputs (concatenation of two sequences) longer than\n",
    "      512 subwords will be truncated by the model.''',\n",
    "    additional_information = '''The hyperparameters were determined by experimentation\n",
    "      with different values.'''\n",
    ")\n",
    "\n",
    "# the following lines will write a markdown (.md) file; this becomes one of your model cards\n",
    "# change the filename accordingly\n",
    "with open('COMP34812_modelcard_bilstm.md', 'w') as model_card:\n",
    "  model_card.write(card.content)"
   ]
  }
 ],
 "metadata": {
  "colab": {
   "authorship_tag": "ABX9TyPzvps9Dhvz36rnNhpWjrbn",
   "provenance": []
  },
  "kernelspec": {
   "display_name": "base",
   "language": "python",
   "name": "python3"
  },
  "language_info": {
   "codemirror_mode": {
    "name": "ipython",
    "version": 3
   },
   "file_extension": ".py",
   "mimetype": "text/x-python",
   "name": "python",
   "nbconvert_exporter": "python",
   "pygments_lexer": "ipython3",
   "version": "3.9.12"
  }
 },
 "nbformat": 4,
 "nbformat_minor": 0
}
