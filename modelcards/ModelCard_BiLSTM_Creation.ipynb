{
  "cells": [
    {
      "cell_type": "markdown",
      "metadata": {
        "id": "3y5__yaUKyb1"
      },
      "source": [
        "The model card template makes use of Jinja, hence we need to install the necessary package."
      ]
    },
    {
      "cell_type": "code",
      "execution_count": 2,
      "metadata": {
        "colab": {
          "base_uri": "https://localhost:8080/"
        },
        "id": "kjSmXdzczFoh",
        "outputId": "93f2e66a-9ab4-449b-90cf-bac80197cf36"
      },
      "outputs": [
        {
          "output_type": "stream",
          "name": "stdout",
          "text": [
            "Requirement already satisfied: Jinja2 in /usr/local/lib/python3.11/dist-packages (3.1.6)\n",
            "Requirement already satisfied: MarkupSafe>=2.0 in /usr/local/lib/python3.11/dist-packages (from Jinja2) (3.0.2)\n"
          ]
        }
      ],
      "source": [
        "!pip install Jinja2"
      ]
    },
    {
      "cell_type": "markdown",
      "metadata": {
        "id": "Puto8-5ILO2s"
      },
      "source": [
        "Required import statement"
      ]
    },
    {
      "cell_type": "code",
      "execution_count": 3,
      "metadata": {
        "id": "inUOAq0Yy_O5"
      },
      "outputs": [],
      "source": [
        "from huggingface_hub import ModelCard, ModelCardData"
      ]
    },
    {
      "cell_type": "markdown",
      "metadata": {
        "id": "TX5nkStaLTRC"
      },
      "source": [
        "Before running the cell below, upload the model card template (`COMP34812_modelcard_template.md`) provided to you using the Colab file browser (on the left-hand side)."
      ]
    },
    {
      "cell_type": "code",
      "execution_count": 4,
      "metadata": {
        "colab": {
          "base_uri": "https://localhost:8080/"
        },
        "id": "pg4o6fuPbl5X",
        "outputId": "e3b70094-1c5f-4893-866b-5b6f568513fa"
      },
      "outputs": [
        {
          "output_type": "stream",
          "name": "stderr",
          "text": [
            "Repo card metadata block was not found. Setting CardData to empty.\n",
            "WARNING:huggingface_hub.repocard:Repo card metadata block was not found. Setting CardData to empty.\n"
          ]
        }
      ],
      "source": [
        "card_data = ModelCardData(\n",
        "    language='en',\n",
        "    license='cc-by-4.0',\n",
        "    tags=['pairwise-sequence-classification', 'natural-language-inference'],\n",
        "    # change the line below to specify the URL to your Github/Gitlab repo\n",
        "    repo=\"https://github.com/eugenelian/comp34812_bilstm\",\n",
        "    ignore_metadata_errors=True)\n",
        "\n",
        "card = ModelCard.from_template(\n",
        "    card_data = card_data,\n",
        "    template_path='COMP34812_modelcard_template.md',\n",
        "    # change the following line to indicate your respective usernames\n",
        "    # and the abbreviation of the relevant track name, e.g., NLI, ED, AV\n",
        "    model_id = 'n46491el-p40327sm-NLI',\n",
        "\n",
        "    # the following lines were provided to give you an example value for each attribute\n",
        "    model_summary = '''This is a pairwise sequence classification model that was trained to\n",
        "      detect whether a piece of text is true based on the premise piece of text.''',\n",
        "    model_description = '''This model is based upon a Bidirectional Long Short-Term Memory\n",
        "      (BiLSTM) model that was fine-tuned on 24K pairs of texts. A further improvement on\n",
        "      the model is gained by using DeBERTa only for embeddings.''',\n",
        "    developers = 'Eugene Lian and Steven Moussa',\n",
        "    base_model_repo = 'https://huggingface.co/microsoft/deberta-v3-base',\n",
        "    base_model_paper = 'https://arxiv.org/pdf/2006.03654',\n",
        "    model_type = 'Supervised',\n",
        "    model_architecture = 'Deep learning-based approaches that do not employ transformer architectures',\n",
        "    language = 'English',\n",
        "    base_model = 'BiLSTM',\n",
        "    training_data = '24K pairs of texts drawn from emails, news articles and blog posts.',\n",
        "    hyperparameters = '''\n",
        "      - learning_rate: 1e-05\n",
        "      - train_batch_size: 16\n",
        "      - eval_batch_size: 16\n",
        "      - seed: 42\n",
        "      - dropout: 0.1\n",
        "      - num_epochs: 10''',\n",
        "    speeds_sizes_times = '''\n",
        "      - overall training time: 15 minutes\n",
        "      - duration per training epoch: 72 seconds\n",
        "      - model size: 14.16 MB''',\n",
        "    testing_data = 'Full development set provided, amounting to 6K pairs.',\n",
        "    testing_metrics = '''\n",
        "      - Precision\n",
        "      - Recall\n",
        "      - F1-score\n",
        "      - Accuracy\n",
        "      - Matthew's Correlation Coefficient (MCC)\n",
        "      - Receiver Operating Characteristic Area Under Curve (ROC AUC) score''',\n",
        "    results = '''\n",
        "      - Precision: 69.79%\n",
        "      - Recall: 70.26%\n",
        "      - F1-score: 70.19%\n",
        "      - Accuracy: 70.26%\n",
        "      - MCC: 40.43%\n",
        "      - ROC AUC score: %''',\n",
        "    hardware_requirements = '''\n",
        "      - RAM: at least 8 GB\n",
        "      - Storage: at least 2GB,\n",
        "      - GPU: T4''',\n",
        "    software = '''\n",
        "      - Transformers 4.50.3\n",
        "      - Tensorflow 2.16.1''',\n",
        "    bias_risks_limitations = '''Any inputs (concatenation of two sequences) longer than\n",
        "      100 tokens will be truncated by the model.''',\n",
        "    additional_information = '''The hyperparameters were determined by a grid search with the below values.\n",
        "      - learning_rate: [0.0,0.1,0.15]\n",
        "      - train_batch_size: [8,16,32]\n",
        "      - dropout: [0.0,0.1,0.15]'''\n",
        ")\n",
        "\n",
        "# the following lines will write a markdown (.md) file; this becomes one of your model cards\n",
        "# change the filename accordingly\n",
        "with open('COMP34812_modelcard_bilstm.md', 'w') as model_card:\n",
        "  model_card.write(card.content)"
      ]
    }
  ],
  "metadata": {
    "colab": {
      "provenance": []
    },
    "kernelspec": {
      "display_name": "base",
      "language": "python",
      "name": "python3"
    },
    "language_info": {
      "codemirror_mode": {
        "name": "ipython",
        "version": 3
      },
      "file_extension": ".py",
      "mimetype": "text/x-python",
      "name": "python",
      "nbconvert_exporter": "python",
      "pygments_lexer": "ipython3",
      "version": "3.9.12"
    }
  },
  "nbformat": 4,
  "nbformat_minor": 0
}